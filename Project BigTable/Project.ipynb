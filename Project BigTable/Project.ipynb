{
 "cells": [
  {
   "cell_type": "code",
   "execution_count": 19,
   "id": "9e51e188",
   "metadata": {},
   "outputs": [],
   "source": [
    "import pandas as pd"
   ]
  },
  {
   "cell_type": "code",
   "execution_count": 20,
   "id": "b366147f",
   "metadata": {},
   "outputs": [
    {
     "name": "stdout",
     "output_type": "stream",
     "text": [
      "Requirement already satisfied: pandas in d:\\anaconda3\\lib\\site-packages (1.3.4)\n",
      "Requirement already satisfied: python-dateutil>=2.7.3 in d:\\anaconda3\\lib\\site-packages (from pandas) (2.8.2)Note: you may need to restart the kernel to use updated packages.\n",
      "\n",
      "Requirement already satisfied: pytz>=2017.3 in d:\\anaconda3\\lib\\site-packages (from pandas) (2021.3)\n",
      "Requirement already satisfied: numpy>=1.17.3 in d:\\anaconda3\\lib\\site-packages (from pandas) (1.20.3)\n",
      "Requirement already satisfied: six>=1.5 in d:\\anaconda3\\lib\\site-packages (from python-dateutil>=2.7.3->pandas) (1.16.0)\n"
     ]
    }
   ],
   "source": [
    "pip install pandas"
   ]
  },
  {
   "cell_type": "code",
   "execution_count": 21,
   "id": "bcc495eb",
   "metadata": {},
   "outputs": [],
   "source": [
    "import numpy as np"
   ]
  },
  {
   "cell_type": "code",
   "execution_count": 26,
   "id": "e1a9a025",
   "metadata": {},
   "outputs": [],
   "source": [
    "import pandas as pd"
   ]
  },
  {
   "cell_type": "code",
   "execution_count": 28,
   "id": "63d1fe25",
   "metadata": {},
   "outputs": [
    {
     "name": "stderr",
     "output_type": "stream",
     "text": [
      "b'Skipping line 9553: expected 15 fields, saw 22\\nSkipping line 16240: expected 15 fields, saw 22\\nSkipping line 21292: expected 15 fields, saw 22\\nSkipping line 43160: expected 15 fields, saw 22\\n'\n",
      "b'Skipping line 75057: expected 15 fields, saw 22\\nSkipping line 77996: expected 15 fields, saw 22\\nSkipping line 90688: expected 15 fields, saw 22\\n'\n",
      "b'Skipping line 149039: expected 15 fields, saw 22\\nSkipping line 156530: expected 15 fields, saw 22\\nSkipping line 165609: expected 15 fields, saw 22\\nSkipping line 174362: expected 15 fields, saw 22\\nSkipping line 191190: expected 15 fields, saw 22\\n'\n",
      "b'Skipping line 201182: expected 15 fields, saw 22\\nSkipping line 206503: expected 15 fields, saw 22\\nSkipping line 231942: expected 15 fields, saw 22\\nSkipping line 243480: expected 15 fields, saw 22\\nSkipping line 252489: expected 15 fields, saw 22\\n'\n",
      "b'Skipping line 335656: expected 15 fields, saw 22\\nSkipping line 355068: expected 15 fields, saw 22\\nSkipping line 374843: expected 15 fields, saw 22\\nSkipping line 378331: expected 15 fields, saw 22\\nSkipping line 388062: expected 15 fields, saw 22\\n'\n",
      "b'Skipping line 398341: expected 15 fields, saw 22\\nSkipping line 425991: expected 15 fields, saw 22\\n'\n",
      "b'Skipping line 536102: expected 15 fields, saw 22\\nSkipping line 545100: expected 15 fields, saw 22\\nSkipping line 549997: expected 15 fields, saw 22\\nSkipping line 568788: expected 15 fields, saw 22\\nSkipping line 569238: expected 15 fields, saw 22\\n'\n",
      "b'Skipping line 604176: expected 15 fields, saw 22\\nSkipping line 609611: expected 15 fields, saw 22\\nSkipping line 622383: expected 15 fields, saw 22\\nSkipping line 629055: expected 15 fields, saw 22\\nSkipping line 631457: expected 15 fields, saw 22\\nSkipping line 642766: expected 15 fields, saw 22\\n'\n",
      "b'Skipping line 681948: expected 15 fields, saw 22\\nSkipping line 687942: expected 15 fields, saw 22\\nSkipping line 691073: expected 15 fields, saw 22\\nSkipping line 696938: expected 15 fields, saw 22\\n'\n",
      "b'Skipping line 791556: expected 15 fields, saw 22\\n'\n",
      "b'Skipping line 1013014: expected 15 fields, saw 22\\n'\n",
      "b'Skipping line 1239913: expected 15 fields, saw 22\\n'\n",
      "D:\\Anaconda3\\lib\\site-packages\\IPython\\core\\interactiveshell.py:3444: DtypeWarning: Columns (7) have mixed types.Specify dtype option on import or set low_memory=False.\n",
      "  exec(code_obj, self.user_global_ns, self.user_ns)\n",
      "b'Skipping line 2645: expected 15 fields, saw 22\\nSkipping line 10770: expected 15 fields, saw 22\\nSkipping line 13472: expected 15 fields, saw 22\\nSkipping line 15785: expected 15 fields, saw 22\\nSkipping line 22792: expected 15 fields, saw 22\\nSkipping line 26618: expected 15 fields, saw 22\\n'\n",
      "b'Skipping line 70872: expected 15 fields, saw 22\\nSkipping line 71165: expected 15 fields, saw 22\\nSkipping line 118103: expected 15 fields, saw 22\\n'\n",
      "b'Skipping line 148666: expected 15 fields, saw 22\\nSkipping line 150834: expected 15 fields, saw 22\\nSkipping line 169344: expected 15 fields, saw 22\\n'\n",
      "b'Skipping line 197223: expected 15 fields, saw 22\\nSkipping line 212607: expected 15 fields, saw 22\\nSkipping line 227765: expected 15 fields, saw 22\\nSkipping line 240130: expected 15 fields, saw 22\\n'\n",
      "b'Skipping line 281133: expected 15 fields, saw 22\\nSkipping line 289460: expected 15 fields, saw 22\\nSkipping line 311933: expected 15 fields, saw 22\\nSkipping line 312121: expected 15 fields, saw 22\\n'\n",
      "b'Skipping line 328803: expected 15 fields, saw 22\\nSkipping line 347225: expected 15 fields, saw 22\\nSkipping line 372141: expected 15 fields, saw 22\\nSkipping line 383871: expected 15 fields, saw 22\\n'\n",
      "b'Skipping line 394261: expected 15 fields, saw 22\\nSkipping line 395056: expected 15 fields, saw 22\\n'\n",
      "b'Skipping line 491456: expected 15 fields, saw 22\\n'\n",
      "b'Skipping line 644633: expected 15 fields, saw 22\\n'\n",
      "b'Skipping line 5583: expected 15 fields, saw 22\\nSkipping line 22814: expected 15 fields, saw 22\\nSkipping line 22883: expected 15 fields, saw 22\\nSkipping line 29872: expected 15 fields, saw 22\\nSkipping line 37242: expected 15 fields, saw 22\\nSkipping line 59693: expected 15 fields, saw 22\\n'\n",
      "b'Skipping line 17990: expected 15 fields, saw 22\\nSkipping line 33182: expected 15 fields, saw 22\\nSkipping line 35417: expected 15 fields, saw 22\\nSkipping line 52596: expected 15 fields, saw 22\\n'\n",
      "b'Skipping line 88313: expected 15 fields, saw 22\\n'\n",
      "b'Skipping line 132531: expected 15 fields, saw 22\\nSkipping line 141602: expected 15 fields, saw 22\\nSkipping line 146295: expected 15 fields, saw 22\\nSkipping line 147512: expected 15 fields, saw 22\\nSkipping line 150708: expected 15 fields, saw 22\\nSkipping line 154197: expected 15 fields, saw 22\\nSkipping line 192352: expected 15 fields, saw 22\\nSkipping line 193908: expected 15 fields, saw 22\\n'\n",
      "b'Skipping line 207944: expected 15 fields, saw 22\\nSkipping line 208350: expected 15 fields, saw 22\\nSkipping line 208759: expected 15 fields, saw 22\\nSkipping line 209151: expected 15 fields, saw 22\\n'\n",
      "b'Skipping line 273516: expected 15 fields, saw 22\\nSkipping line 276042: expected 15 fields, saw 22\\nSkipping line 289485: expected 15 fields, saw 22\\nSkipping line 296935: expected 15 fields, saw 22\\nSkipping line 303727: expected 15 fields, saw 22\\n'\n",
      "b'Skipping line 328459: expected 15 fields, saw 22\\nSkipping line 359495: expected 15 fields, saw 22\\nSkipping line 388082: expected 15 fields, saw 22\\nSkipping line 388183: expected 15 fields, saw 22\\nSkipping line 388865: expected 15 fields, saw 22\\nSkipping line 389476: expected 15 fields, saw 22\\nSkipping line 390582: expected 15 fields, saw 22\\n'\n",
      "b'Skipping line 414441: expected 15 fields, saw 22\\nSkipping line 450946: expected 15 fields, saw 22\\n'\n",
      "b'Skipping line 477591: expected 15 fields, saw 22\\n'\n",
      "b'Skipping line 544317: expected 15 fields, saw 22\\nSkipping line 562769: expected 15 fields, saw 22\\nSkipping line 565607: expected 15 fields, saw 22\\nSkipping line 569011: expected 15 fields, saw 22\\nSkipping line 571858: expected 15 fields, saw 22\\nSkipping line 574733: expected 15 fields, saw 22\\nSkipping line 586353: expected 15 fields, saw 22\\nSkipping line 588285: expected 15 fields, saw 22\\n'\n",
      "b'Skipping line 597472: expected 15 fields, saw 22\\nSkipping line 598756: expected 15 fields, saw 22\\nSkipping line 602985: expected 15 fields, saw 22\\nSkipping line 612932: expected 15 fields, saw 22\\nSkipping line 622022: expected 15 fields, saw 22\\nSkipping line 650789: expected 15 fields, saw 22\\n'\n",
      "b'Skipping line 664892: expected 15 fields, saw 22\\n'\n",
      "b'Skipping line 733321: expected 15 fields, saw 22\\nSkipping line 734158: expected 15 fields, saw 22\\nSkipping line 782266: expected 15 fields, saw 22\\n'\n",
      "b'Skipping line 810189: expected 15 fields, saw 22\\n'\n",
      "b'Skipping line 1025238: expected 15 fields, saw 22\\n'\n",
      "b'Skipping line 1128968: expected 15 fields, saw 22\\nSkipping line 1135995: expected 15 fields, saw 22\\nSkipping line 1147132: expected 15 fields, saw 22\\nSkipping line 1149058: expected 15 fields, saw 22\\nSkipping line 1156351: expected 15 fields, saw 22\\n'\n",
      "b'Skipping line 1358731: expected 15 fields, saw 22\\n'\n",
      "b'Skipping line 20630: expected 15 fields, saw 22\\nSkipping line 28172: expected 15 fields, saw 22\\nSkipping line 54791: expected 15 fields, saw 22\\n'\n",
      "b'Skipping line 75419: expected 15 fields, saw 22\\nSkipping line 104832: expected 15 fields, saw 22\\n'\n",
      "b'Skipping line 138464: expected 15 fields, saw 22\\nSkipping line 194849: expected 15 fields, saw 22\\n'\n",
      "b'Skipping line 201568: expected 15 fields, saw 22\\nSkipping line 242567: expected 15 fields, saw 22\\n'\n",
      "b'Skipping line 493585: expected 15 fields, saw 22\\nSkipping line 502478: expected 15 fields, saw 22\\n'\n",
      "b'Skipping line 660750: expected 15 fields, saw 22\\n'\n"
     ]
    }
   ],
   "source": [
    "#reading tsv as Dataframe\n",
    "df_amazon_reviews_us_Baby_v1_00 = pd.read_csv(r'D:\\Concordia Academics\\Fall 2021\\COMP 6231\\Project\\Final\\amazon_reviews_us_Baby_v1_00.tsv', sep='\\t',error_bad_lines=False)\n",
    "df_amazon_reviews_us_Furniture_v1_00 =  pd.read_csv(r'D:\\Concordia Academics\\Fall 2021\\COMP 6231\\Project\\Final\\amazon_reviews_us_Furniture_v1_00.tsv', sep='\\t',error_bad_lines=False)\n",
    "df_amazon_reviews_us_Gift_Card_v1_00 =  pd.read_csv(r'D:\\Concordia Academics\\Fall 2021\\COMP 6231\\Project\\Final\\amazon_reviews_us_Gift_Card_v1_00.tsv', sep='\\t',error_bad_lines=False)\n",
    "df_amazon_reviews_us_Major_Appliances_v1_00 =  pd.read_csv(r'D:\\Concordia Academics\\Fall 2021\\COMP 6231\\Project\\Final\\amazon_reviews_us_Major_Appliances_v1_00.tsv', sep='\\t',error_bad_lines=False)\n",
    "df_amazon_reviews_us_Tools_v1_00 =  pd.read_csv(r'D:\\Concordia Academics\\Fall 2021\\COMP 6231\\Project\\Final\\amazon_reviews_us_Tools_v1_00.tsv', sep='\\t',error_bad_lines=False)\n",
    "df_amazon_reviews_us_Video_Games_v1_00 =  pd.read_csv(r'D:\\Concordia Academics\\Fall 2021\\COMP 6231\\Project\\Final\\amazon_reviews_us_Video_Games_v1_00.tsv', sep='\\t',error_bad_lines=False)"
   ]
  },
  {
   "cell_type": "code",
   "execution_count": 29,
   "id": "84b832c2",
   "metadata": {},
   "outputs": [
    {
     "data": {
      "text/html": [
       "<div>\n",
       "<style scoped>\n",
       "    .dataframe tbody tr th:only-of-type {\n",
       "        vertical-align: middle;\n",
       "    }\n",
       "\n",
       "    .dataframe tbody tr th {\n",
       "        vertical-align: top;\n",
       "    }\n",
       "\n",
       "    .dataframe thead th {\n",
       "        text-align: right;\n",
       "    }\n",
       "</style>\n",
       "<table border=\"1\" class=\"dataframe\">\n",
       "  <thead>\n",
       "    <tr style=\"text-align: right;\">\n",
       "      <th></th>\n",
       "      <th>marketplace</th>\n",
       "      <th>customer_id</th>\n",
       "      <th>review_id</th>\n",
       "      <th>product_id</th>\n",
       "      <th>product_parent</th>\n",
       "      <th>product_title</th>\n",
       "      <th>product_category</th>\n",
       "      <th>star_rating</th>\n",
       "      <th>helpful_votes</th>\n",
       "      <th>total_votes</th>\n",
       "      <th>vine</th>\n",
       "      <th>verified_purchase</th>\n",
       "      <th>review_headline</th>\n",
       "      <th>review_body</th>\n",
       "      <th>review_date</th>\n",
       "    </tr>\n",
       "  </thead>\n",
       "  <tbody>\n",
       "    <tr>\n",
       "      <th>0</th>\n",
       "      <td>US</td>\n",
       "      <td>9970739</td>\n",
       "      <td>R8EWA1OFT84NX</td>\n",
       "      <td>B00GSP5D94</td>\n",
       "      <td>329991347</td>\n",
       "      <td>Summer Infant SwaddleMe Adjustable Infant Wrap...</td>\n",
       "      <td>Baby</td>\n",
       "      <td>5</td>\n",
       "      <td>0.0</td>\n",
       "      <td>0.0</td>\n",
       "      <td>N</td>\n",
       "      <td>Y</td>\n",
       "      <td>Great swaddled blankets</td>\n",
       "      <td>Loved these swaddle blankets and so did my dau...</td>\n",
       "      <td>2015-08-31</td>\n",
       "    </tr>\n",
       "    <tr>\n",
       "      <th>1</th>\n",
       "      <td>US</td>\n",
       "      <td>23538442</td>\n",
       "      <td>R2JWY4YRQD4FOP</td>\n",
       "      <td>B00YYDDZGU</td>\n",
       "      <td>646108902</td>\n",
       "      <td>Pacifier Clip Girl (3 Pack) Ziggy Baby 2-Sided...</td>\n",
       "      <td>Baby</td>\n",
       "      <td>5</td>\n",
       "      <td>0.0</td>\n",
       "      <td>0.0</td>\n",
       "      <td>N</td>\n",
       "      <td>N</td>\n",
       "      <td>Too cute and really nice</td>\n",
       "      <td>These are adorable pacifier clips. SavvyBaby h...</td>\n",
       "      <td>2015-08-31</td>\n",
       "    </tr>\n",
       "  </tbody>\n",
       "</table>\n",
       "</div>"
      ],
      "text/plain": [
       "  marketplace  customer_id       review_id  product_id  product_parent  \\\n",
       "0          US      9970739   R8EWA1OFT84NX  B00GSP5D94       329991347   \n",
       "1          US     23538442  R2JWY4YRQD4FOP  B00YYDDZGU       646108902   \n",
       "\n",
       "                                       product_title product_category  \\\n",
       "0  Summer Infant SwaddleMe Adjustable Infant Wrap...             Baby   \n",
       "1  Pacifier Clip Girl (3 Pack) Ziggy Baby 2-Sided...             Baby   \n",
       "\n",
       "  star_rating  helpful_votes  total_votes vine verified_purchase  \\\n",
       "0           5            0.0          0.0    N                 Y   \n",
       "1           5            0.0          0.0    N                 N   \n",
       "\n",
       "            review_headline  \\\n",
       "0   Great swaddled blankets   \n",
       "1  Too cute and really nice   \n",
       "\n",
       "                                         review_body review_date  \n",
       "0  Loved these swaddle blankets and so did my dau...  2015-08-31  \n",
       "1  These are adorable pacifier clips. SavvyBaby h...  2015-08-31  "
      ]
     },
     "execution_count": 29,
     "metadata": {},
     "output_type": "execute_result"
    }
   ],
   "source": [
    "df_amazon_reviews_us_Baby_v1_00.head(2)"
   ]
  },
  {
   "cell_type": "code",
   "execution_count": 30,
   "id": "5ee350bd",
   "metadata": {},
   "outputs": [],
   "source": [
    "punc = '!\"#$%&\\'()*+,./:;<=>?@[\\\\]^_`{|}~-'"
   ]
  },
  {
   "cell_type": "code",
   "execution_count": 31,
   "id": "dc4b99fd",
   "metadata": {},
   "outputs": [],
   "source": [
    "#replacing ch with \" \"\n",
    "punc = ',\"'\n",
    "for ch in punc:\n",
    "        df_amazon_reviews_us_Furniture_v1_00 = df_amazon_reviews_us_Furniture_v1_00.replace(ch, '', regex=True)\n",
    "        df_amazon_reviews_us_Gift_Card_v1_00 = df_amazon_reviews_us_Gift_Card_v1_00.replace(ch,'',regex=True)\n",
    "        df_amazon_reviews_us_Major_Appliances_v1_00 = df_amazon_reviews_us_Major_Appliances_v1_00.replace(ch,'',regex=True)\n",
    "        df_amazon_reviews_us_Tools_v1_00 = df_amazon_reviews_us_Tools_v1_00.replace(ch,'',regex=True)\n",
    "        df_amazon_reviews_us_Video_Games_v1_00 = df_amazon_reviews_us_Video_Games_v1_00.replace(ch,'',regex=True)\n",
    "        df_amazon_reviews_us_Baby_v1_00 = df_amazon_reviews_us_Baby_v1_00.replace(ch, '', regex=True)"
   ]
  },
  {
   "cell_type": "code",
   "execution_count": 32,
   "id": "f6f32cce",
   "metadata": {},
   "outputs": [],
   "source": [
    "#to drop columns\n",
    "df_amazon_reviews_us_Furniture_v1_00 = df_amazon_reviews_us_Furniture_v1_00.drop(columns=['product_title', 'review_headline','review_body'])\n",
    "df_amazon_reviews_us_Gift_Card_v1_00 = df_amazon_reviews_us_Gift_Card_v1_00.drop(columns=['product_title', 'review_headline','review_body'])\n",
    "df_amazon_reviews_us_Major_Appliances_v1_00 = df_amazon_reviews_us_Major_Appliances_v1_00.drop(columns=['product_title', 'review_headline','review_body'])\n",
    "df_amazon_reviews_us_Tools_v1_00 = df_amazon_reviews_us_Tools_v1_00.drop(columns=['product_title', 'review_headline','review_body'])\n",
    "df_amazon_reviews_us_Video_Games_v1_00 = df_amazon_reviews_us_Video_Games_v1_00.drop(columns=['product_title', 'review_headline','review_body'])\n",
    "df_amazon_reviews_us_Baby_v1_00 = df_amazon_reviews_us_Baby_v1_00.drop(columns=['product_title', 'review_headline','review_body'])"
   ]
  },
  {
   "cell_type": "code",
   "execution_count": 33,
   "id": "934b6832",
   "metadata": {},
   "outputs": [
    {
     "data": {
      "text/html": [
       "<div>\n",
       "<style scoped>\n",
       "    .dataframe tbody tr th:only-of-type {\n",
       "        vertical-align: middle;\n",
       "    }\n",
       "\n",
       "    .dataframe tbody tr th {\n",
       "        vertical-align: top;\n",
       "    }\n",
       "\n",
       "    .dataframe thead th {\n",
       "        text-align: right;\n",
       "    }\n",
       "</style>\n",
       "<table border=\"1\" class=\"dataframe\">\n",
       "  <thead>\n",
       "    <tr style=\"text-align: right;\">\n",
       "      <th></th>\n",
       "      <th>marketplace</th>\n",
       "      <th>customer_id</th>\n",
       "      <th>review_id</th>\n",
       "      <th>product_id</th>\n",
       "      <th>product_parent</th>\n",
       "      <th>product_category</th>\n",
       "      <th>star_rating</th>\n",
       "      <th>helpful_votes</th>\n",
       "      <th>total_votes</th>\n",
       "      <th>vine</th>\n",
       "      <th>verified_purchase</th>\n",
       "      <th>review_date</th>\n",
       "    </tr>\n",
       "  </thead>\n",
       "  <tbody>\n",
       "    <tr>\n",
       "      <th>0</th>\n",
       "      <td>US</td>\n",
       "      <td>12039526</td>\n",
       "      <td>RTIS3L2M1F5SM</td>\n",
       "      <td>B001CXYMFS</td>\n",
       "      <td>737716809</td>\n",
       "      <td>Video Games</td>\n",
       "      <td>5</td>\n",
       "      <td>0</td>\n",
       "      <td>0</td>\n",
       "      <td>N</td>\n",
       "      <td>Y</td>\n",
       "      <td>2015-08-31</td>\n",
       "    </tr>\n",
       "    <tr>\n",
       "      <th>1</th>\n",
       "      <td>US</td>\n",
       "      <td>9636577</td>\n",
       "      <td>R1ZV7R40OLHKD</td>\n",
       "      <td>B00M920ND6</td>\n",
       "      <td>569686175</td>\n",
       "      <td>Video Games</td>\n",
       "      <td>5</td>\n",
       "      <td>0</td>\n",
       "      <td>0</td>\n",
       "      <td>N</td>\n",
       "      <td>Y</td>\n",
       "      <td>2015-08-31</td>\n",
       "    </tr>\n",
       "  </tbody>\n",
       "</table>\n",
       "</div>"
      ],
      "text/plain": [
       "  marketplace  customer_id      review_id  product_id  product_parent  \\\n",
       "0          US     12039526  RTIS3L2M1F5SM  B001CXYMFS       737716809   \n",
       "1          US      9636577  R1ZV7R40OLHKD  B00M920ND6       569686175   \n",
       "\n",
       "  product_category  star_rating  helpful_votes  total_votes vine  \\\n",
       "0      Video Games            5              0            0    N   \n",
       "1      Video Games            5              0            0    N   \n",
       "\n",
       "  verified_purchase review_date  \n",
       "0                 Y  2015-08-31  \n",
       "1                 Y  2015-08-31  "
      ]
     },
     "execution_count": 33,
     "metadata": {},
     "output_type": "execute_result"
    }
   ],
   "source": [
    "df_amazon_reviews_us_Video_Games_v1_00.head(2)"
   ]
  },
  {
   "cell_type": "code",
   "execution_count": 37,
   "id": "593a24b4",
   "metadata": {},
   "outputs": [],
   "source": [
    "#Reorder Columns\n",
    "df_amazon_reviews_us_Furniture_v1_00=df_amazon_reviews_us_Furniture_v1_00[[\"review_id\",\"customer_id\",\"product_id\",\"review_date\",\"marketplace\",\"product_parent\",\"product_category\",\"star_rating\",\"helpful_votes\",\"total_votes\",\"vine\",\"verified_purchase\"]]\n",
    "df_amazon_reviews_us_Gift_Card_v1_00=df_amazon_reviews_us_Gift_Card_v1_00[[\"review_id\",\"customer_id\",\"product_id\",\"review_date\",\"marketplace\",\"product_parent\",\"product_category\",\"star_rating\",\"helpful_votes\",\"total_votes\",\"vine\",\"verified_purchase\"]]\n",
    "df_amazon_reviews_us_Tools_v1_00=df_amazon_reviews_us_Tools_v1_00[[\"review_id\",\"customer_id\",\"product_id\",\"review_date\",\"marketplace\",\"product_parent\",\"product_category\",\"star_rating\",\"helpful_votes\",\"total_votes\",\"vine\",\"verified_purchase\"]]\n",
    "df_amazon_reviews_us_Video_Games_v1_00=df_amazon_reviews_us_Video_Games_v1_00[[\"review_id\",\"customer_id\",\"product_id\",\"review_date\",\"marketplace\",\"product_parent\",\"product_category\",\"star_rating\",\"helpful_votes\",\"total_votes\",\"vine\",\"verified_purchase\"]]\n",
    "df_amazon_reviews_us_Major_Appliances_v1_00=df_amazon_reviews_us_Major_Appliances_v1_00[[\"review_id\",\"customer_id\",\"product_id\",\"review_date\",\"marketplace\",\"product_parent\",\"product_category\",\"star_rating\",\"helpful_votes\",\"total_votes\",\"vine\",\"verified_purchase\"]]\n",
    "df_amazon_reviews_us_Baby_v1_00=df_amazon_reviews_us_Baby_v1_00[[\"review_id\",\"customer_id\",\"product_id\",\"review_date\",\"marketplace\",\"product_parent\",\"product_category\",\"star_rating\",\"helpful_votes\",\"total_votes\",\"vine\",\"verified_purchase\"]]"
   ]
  },
  {
   "cell_type": "code",
   "execution_count": 38,
   "id": "4978d7d3",
   "metadata": {},
   "outputs": [
    {
     "data": {
      "text/html": [
       "<div>\n",
       "<style scoped>\n",
       "    .dataframe tbody tr th:only-of-type {\n",
       "        vertical-align: middle;\n",
       "    }\n",
       "\n",
       "    .dataframe tbody tr th {\n",
       "        vertical-align: top;\n",
       "    }\n",
       "\n",
       "    .dataframe thead th {\n",
       "        text-align: right;\n",
       "    }\n",
       "</style>\n",
       "<table border=\"1\" class=\"dataframe\">\n",
       "  <thead>\n",
       "    <tr style=\"text-align: right;\">\n",
       "      <th></th>\n",
       "      <th>review_id</th>\n",
       "      <th>customer_id</th>\n",
       "      <th>product_id</th>\n",
       "      <th>review_date</th>\n",
       "      <th>marketplace</th>\n",
       "      <th>product_parent</th>\n",
       "      <th>product_category</th>\n",
       "      <th>star_rating</th>\n",
       "      <th>helpful_votes</th>\n",
       "      <th>total_votes</th>\n",
       "      <th>vine</th>\n",
       "      <th>verified_purchase</th>\n",
       "    </tr>\n",
       "  </thead>\n",
       "  <tbody>\n",
       "    <tr>\n",
       "      <th>0</th>\n",
       "      <td>R3VR960AHLFKDV</td>\n",
       "      <td>24509695</td>\n",
       "      <td>B004HB5E0E</td>\n",
       "      <td>2015-08-31</td>\n",
       "      <td>US</td>\n",
       "      <td>488241329</td>\n",
       "      <td>Furniture</td>\n",
       "      <td>4</td>\n",
       "      <td>0</td>\n",
       "      <td>0</td>\n",
       "      <td>N</td>\n",
       "      <td>Y</td>\n",
       "    </tr>\n",
       "    <tr>\n",
       "      <th>1</th>\n",
       "      <td>R16LGVMFKIUT0G</td>\n",
       "      <td>34731776</td>\n",
       "      <td>B0042TNMMS</td>\n",
       "      <td>2015-08-31</td>\n",
       "      <td>US</td>\n",
       "      <td>205864445</td>\n",
       "      <td>Furniture</td>\n",
       "      <td>5</td>\n",
       "      <td>0</td>\n",
       "      <td>0</td>\n",
       "      <td>N</td>\n",
       "      <td>Y</td>\n",
       "    </tr>\n",
       "  </tbody>\n",
       "</table>\n",
       "</div>"
      ],
      "text/plain": [
       "        review_id  customer_id  product_id review_date marketplace  \\\n",
       "0  R3VR960AHLFKDV     24509695  B004HB5E0E  2015-08-31          US   \n",
       "1  R16LGVMFKIUT0G     34731776  B0042TNMMS  2015-08-31          US   \n",
       "\n",
       "   product_parent product_category  star_rating  helpful_votes  total_votes  \\\n",
       "0       488241329        Furniture            4              0            0   \n",
       "1       205864445        Furniture            5              0            0   \n",
       "\n",
       "  vine verified_purchase  \n",
       "0    N                 Y  \n",
       "1    N                 Y  "
      ]
     },
     "execution_count": 38,
     "metadata": {},
     "output_type": "execute_result"
    }
   ],
   "source": [
    "df_amazon_reviews_us_Furniture_v1_00.head(2)"
   ]
  },
  {
   "cell_type": "code",
   "execution_count": 39,
   "id": "b8a878f9",
   "metadata": {},
   "outputs": [],
   "source": [
    "#Converting it to csv\n",
    "df_amazon_reviews_us_Furniture_v1_00.to_csv(r'D:\\Concordia Academics\\Fall 2021\\COMP 6231\\Project\\Final\\df_amazon_reviews_us_Furniture_v1_00.csv', index = False,header=None)\n",
    "df_amazon_reviews_us_Gift_Card_v1_00.to_csv(r'D:\\Concordia Academics\\Fall 2021\\COMP 6231\\Project\\Final\\df_amazon_reviews_us_Gift_Card_v1_00.csv', index = False,header=None)\n",
    "df_amazon_reviews_us_Tools_v1_00.to_csv(r'D:\\Concordia Academics\\Fall 2021\\COMP 6231\\Project\\Final\\df_amazon_reviews_us_Tools_v1_00.csv', index = False,header=None)\n",
    "df_amazon_reviews_us_Video_Games_v1_00.to_csv(r'D:\\Concordia Academics\\Fall 2021\\COMP 6231\\Project\\Final\\df_amazon_reviews_us_Video_Games_v1_00.csv', index = False,header=None)\n",
    "df_amazon_reviews_us_Major_Appliances_v1_00.to_csv(r'D:\\Concordia Academics\\Fall 2021\\COMP 6231\\Project\\Final\\df_amazon_reviews_us_Major_Appliances_v1_00.csv', index = False,header=None)\n",
    "df_amazon_reviews_us_Baby_v1_00.to_csv(r'D:\\Concordia Academics\\Fall 2021\\COMP 6231\\Project\\Final\\df_amazon_reviews_us_Baby_v1_00.csv', index = False,header=None)"
   ]
  },
  {
   "cell_type": "code",
   "execution_count": 42,
   "id": "42f3a218",
   "metadata": {},
   "outputs": [
    {
     "data": {
      "text/plain": [
       "review_id            1749127\n",
       "customer_id          1749127\n",
       "product_id           1749127\n",
       "review_date          1749127\n",
       "marketplace          1749127\n",
       "product_parent       1749127\n",
       "product_category     1749127\n",
       "star_rating          1749127\n",
       "helpful_votes        1749127\n",
       "total_votes          1749127\n",
       "vine                 1749127\n",
       "verified_purchase    1749127\n",
       "dtype: int64"
      ]
     },
     "execution_count": 42,
     "metadata": {},
     "output_type": "execute_result"
    }
   ],
   "source": [
    "df_amazon_reviews_us_Baby_v1_00.count()"
   ]
  },
  {
   "cell_type": "code",
   "execution_count": 41,
   "id": "fece59cd",
   "metadata": {},
   "outputs": [],
   "source": [
    "df_amazon_reviews_us_Baby_v1_00=df_amazon_reviews_us_Baby_v1_00.dropna()"
   ]
  },
  {
   "cell_type": "code",
   "execution_count": 43,
   "id": "14373248",
   "metadata": {},
   "outputs": [],
   "source": [
    "df_amazon_reviews_us_Baby_v1_00.to_csv(r'D:\\Concordia Academics\\Fall 2021\\COMP 6231\\Project\\Final\\df_amazon_reviews_us_Baby_v1_00.csv', index = False,header=None)"
   ]
  },
  {
   "cell_type": "code",
   "execution_count": null,
   "id": "99bc36fd",
   "metadata": {},
   "outputs": [],
   "source": []
  }
 ],
 "metadata": {
  "kernelspec": {
   "display_name": "Python 3 (ipykernel)",
   "language": "python",
   "name": "python3"
  },
  "language_info": {
   "codemirror_mode": {
    "name": "ipython",
    "version": 3
   },
   "file_extension": ".py",
   "mimetype": "text/x-python",
   "name": "python",
   "nbconvert_exporter": "python",
   "pygments_lexer": "ipython3",
   "version": "3.9.7"
  }
 },
 "nbformat": 4,
 "nbformat_minor": 5
}
