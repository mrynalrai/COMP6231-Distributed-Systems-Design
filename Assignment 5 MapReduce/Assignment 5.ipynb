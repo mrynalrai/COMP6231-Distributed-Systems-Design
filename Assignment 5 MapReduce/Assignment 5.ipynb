{
  "nbformat": 4,
  "nbformat_minor": 0,
  "metadata": {
    "colab": {
      "name": "COMP6321-Assignment.ipynb",
      "provenance": [],
      "collapsed_sections": []
    },
    "kernelspec": {
      "name": "python3",
      "display_name": "Python 3"
    },
    "language_info": {
      "name": "python"
    }
  },
  "cells": [
    {
      "cell_type": "code",
      "metadata": {
        "id": "qqfDjuJHe-NC"
      },
      "source": [
        "# 1. Install all the dependencies in Colab environment i.e. Apache Spark 2.4.4 with hadoop 2.7, Java 8 and Findspark to locate the spark in the system\n",
        "!apt-get install openjdk-8-jdk-headless -qq > /dev/null\n",
        "\n",
        "!wget -q http://archive.apache.org/dist/spark/spark-3.0.0/spark-3.0.0-bin-hadoop3.2.tgz\n",
        "!tar xf spark-3.0.0-bin-hadoop3.2.tgz\n",
        "!pip install -q findspark\n"
      ],
      "execution_count": null,
      "outputs": []
    },
    {
      "cell_type": "code",
      "metadata": {
        "id": "0AgN6ZupDKk6"
      },
      "source": [
        "# 2. Setup Environment Variables\n",
        "import os\n",
        "os.environ[\"JAVA_HOME\"] = \"/usr/lib/jvm/java-8-openjdk-amd64\"\n",
        "os.environ[\"SPARK_HOME\"] = \"/content/spark-3.0.0-bin-hadoop3.2\"\n"
      ],
      "execution_count": null,
      "outputs": []
    },
    {
      "cell_type": "code",
      "metadata": {
        "colab": {
          "base_uri": "https://localhost:8080/",
          "height": 196
        },
        "id": "e6c0dBcWCmQN",
        "outputId": "20d0d078-ddb3-4806-bbc7-e3d0dacfaa67"
      },
      "source": [
        "# 3. Start Spark Session\n",
        "import findspark\n",
        "findspark.init()\n",
        "# findspark.find()\n",
        "from pyspark.context import SparkContext, SparkConf\n",
        "from pyspark.sql.context import SQLContext\n",
        "from pyspark.sql.session import SparkSession\n",
        "\n",
        "from pyspark import SparkContext\n",
        "sc = SparkContext(appName='QUERYING THE DATASET USING “SPARK”')\n",
        "sc"
      ],
      "execution_count": null,
      "outputs": [
        {
          "output_type": "execute_result",
          "data": {
            "text/html": [
              "\n",
              "        <div>\n",
              "            <p><b>SparkContext</b></p>\n",
              "\n",
              "            <p><a href=\"http://721bcdc33209:4040\">Spark UI</a></p>\n",
              "\n",
              "            <dl>\n",
              "              <dt>Version</dt>\n",
              "                <dd><code>v3.0.0</code></dd>\n",
              "              <dt>Master</dt>\n",
              "                <dd><code>local[*]</code></dd>\n",
              "              <dt>AppName</dt>\n",
              "                <dd><code>QUERYING THE DATASET USING “SPARK”</code></dd>\n",
              "            </dl>\n",
              "        </div>\n",
              "        "
            ],
            "text/plain": [
              "<SparkContext master=local[*] appName=QUERYING THE DATASET USING “SPARK”>"
            ]
          },
          "metadata": {},
          "execution_count": 19
        }
      ]
    },
    {
      "cell_type": "code",
      "metadata": {
        "colab": {
          "base_uri": "https://localhost:8080/"
        },
        "id": "W-5QRWy8BXhd",
        "outputId": "f1642e9c-9e5b-4659-b628-692ed60f82ce"
      },
      "source": [
        "!ls sample_data/movies.csv\n",
        "!head sample_data/movies.csv"
      ],
      "execution_count": null,
      "outputs": [
        {
          "output_type": "stream",
          "name": "stdout",
          "text": [
            "sample_data/movies.csv\n",
            "movieId,title,genres\n",
            "1,Toy Story (1995),Adventure|Animation|Children|Comedy|Fantasy\n",
            "2,Jumanji (1995),Adventure|Children|Fantasy\n",
            "3,Grumpier Old Men (1995),Comedy|Romance\n",
            "4,Waiting to Exhale (1995),Comedy|Drama|Romance\n",
            "5,Father of the Bride Part II (1995),Comedy\n",
            "6,Heat (1995),Action|Crime|Thriller\n",
            "7,Sabrina (1995),Comedy|Romance\n",
            "8,Tom and Huck (1995),Adventure|Children\n",
            "9,Sudden Death (1995),Action\n"
          ]
        }
      ]
    },
    {
      "cell_type": "code",
      "metadata": {
        "colab": {
          "base_uri": "https://localhost:8080/"
        },
        "id": "MvlJxJN2MvI8",
        "outputId": "caac75a3-2920-4f90-db79-258678477140"
      },
      "source": [
        "sqlContext = SQLContext(sc)\n",
        "spark = SparkSession(sc)\n",
        "\n",
        "movies = sqlContext.read.csv('sample_data/movies.csv',header=True).rdd\n",
        "links = sqlContext.read.csv('sample_data/links.csv',header=True).rdd\n",
        "ratings = sqlContext.read.csv('sample_data/ratings.csv',header=True).rdd\n",
        "tags = sqlContext.read.csv('sample_data/tags.csv',header=True).rdd\n",
        "\n",
        "print(movies.count())"
      ],
      "execution_count": null,
      "outputs": [
        {
          "output_type": "stream",
          "name": "stdout",
          "text": [
            "9742\n"
          ]
        }
      ]
    },
    {
      "cell_type": "markdown",
      "metadata": {
        "id": "zcn16b6AiKHr"
      },
      "source": [
        "**Question 1: How many “Drama” movies (movies with the \"Drama\" genre) are there?**"
      ]
    },
    {
      "cell_type": "code",
      "metadata": {
        "colab": {
          "base_uri": "https://localhost:8080/"
        },
        "id": "qks-S3E0NL3h",
        "outputId": "29630a1d-6557-4a7f-90bf-7bedf420bd77"
      },
      "source": [
        "def hasElement(str):\n",
        "  genres = str.split(\"|\")\n",
        "  return 'Drama' in genres\n",
        "\n",
        "movies_genres = movies.map(lambda row: row['genres'])\n",
        "movies_genres_drama = movies_genres.filter(hasElement)\n",
        "\n",
        "print(movies_genres_drama.count())"
      ],
      "execution_count": null,
      "outputs": [
        {
          "output_type": "stream",
          "name": "stdout",
          "text": [
            "4361\n"
          ]
        }
      ]
    },
    {
      "cell_type": "markdown",
      "metadata": {
        "id": "PsukQUYBiSEg"
      },
      "source": [
        "**Question 2: How many unique movies are rated, how many are not rated?**"
      ]
    },
    {
      "cell_type": "code",
      "metadata": {
        "colab": {
          "base_uri": "https://localhost:8080/"
        },
        "id": "gFiyZmRET8t8",
        "outputId": "1df6f40e-0af7-4662-9308-a057a68ff823"
      },
      "source": [
        "# Fetch unique movieIds\n",
        "distinct_movieIds = movies.map(lambda row: row['movieId']).distinct()\n",
        "\n",
        "# Fetch unique movieIds with ratings\n",
        "distinct_movieIds_with_ratings = distinct_movieIds.intersection(ratings.map(lambda row: row['movieId']).distinct())\n",
        "print(distinct_movieIds_with_ratings.count())\n",
        "\n",
        "# Fetch unique movieIds with no ratings\n",
        "distinct_movieIds_with_no_ratings = distinct_movieIds.subtract(distinct_movieIds_with_ratings)\n",
        "print(distinct_movieIds_with_no_ratings.count())\n"
      ],
      "execution_count": null,
      "outputs": [
        {
          "output_type": "stream",
          "name": "stdout",
          "text": [
            "9724\n",
            "18\n"
          ]
        }
      ]
    },
    {
      "cell_type": "markdown",
      "metadata": {
        "id": "kDbY1mt5poYH"
      },
      "source": [
        "**Question 3: Who gave the most ratings, how many rates did he make?**"
      ]
    },
    {
      "cell_type": "code",
      "metadata": {
        "colab": {
          "base_uri": "https://localhost:8080/"
        },
        "id": "i8j15j__ZVF8",
        "outputId": "668c3757-2112-4c39-da24-4e9662fc6c7a"
      },
      "source": [
        "ratings_users = ratings.map(lambda row: (row['userId'], 1))\n",
        "ratings_users = ratings_users.reduceByKey(lambda a, b: (a+b))\n",
        "ratings_users = ratings_users.sortBy(lambda pair: pair[1],ascending=False)\n",
        "print(\"UserId: \", ratings_users.first()[0])\n",
        "print(\"Total ratings: \", ratings_users.first()[1])"
      ],
      "execution_count": null,
      "outputs": [
        {
          "output_type": "stream",
          "name": "stdout",
          "text": [
            "UserId:  414\n",
            "Total ratings:  2698\n"
          ]
        }
      ]
    },
    {
      "cell_type": "markdown",
      "metadata": {
        "id": "zPRJ-kgD4XCd"
      },
      "source": [
        "**Question 4: Compute min, average, max rating per movie.**"
      ]
    },
    {
      "cell_type": "code",
      "metadata": {
        "colab": {
          "base_uri": "https://localhost:8080/"
        },
        "id": "NJFc4zhXn541",
        "outputId": "288cc93a-cafb-4a52-d688-39b70375e74f"
      },
      "source": [
        "grouped_movie = ratings.map(lambda row: (row['movieId'], row['rating'])).groupByKey()\n",
        "movie_ratings = ratings.map(lambda row: (row['movieId'], row['rating']))\n",
        "\n",
        "min_per_movie = grouped_movie.mapValues(min).map(lambda x: (x[0],x[1]))\n",
        "max_per_movie = grouped_movie.mapValues(max).map(lambda x: (x[0],x[1]))\n",
        "\n",
        "per_movie_counts = ratings.map(lambda row: (row['movieId'],1)).reduceByKey(lambda a,b : a+b)\n",
        "per_movie_sums = ratings.map(lambda row: (row['movieId'],float(row['rating']))).reduceByKey(lambda a,b : a+b)\n",
        "avg_per_movie = per_movie_counts.join(per_movie_sums).map(lambda tupl: (tupl[0],tupl[1][1]/tupl[1][0]))\n",
        "\n",
        "ratings_stats = min_per_movie.join(max_per_movie)\n",
        "ratings_stats = ratings_stats.join(avg_per_movie).mapValues(lambda tupl: (tupl[0][0],tupl[1], tupl[0][1]))\n",
        "ratings_stats = ratings_stats.map(lambda tupl: (tupl[0], tupl[1][0],tupl[1][1], tupl[1][2]))\n",
        "\n",
        "ratings_stats = ratings_stats.sortBy(lambda tupl: int(tupl[0]))\n",
        "print(ratings_stats.take(5))\n",
        "\n",
        "ratings_stats.toDF(['MovieID','min','average','max']).show()\n"
      ],
      "execution_count": null,
      "outputs": [
        {
          "output_type": "stream",
          "name": "stdout",
          "text": [
            "[('1', '0.5', 3.9209302325581397, '5.0'), ('2', '0.5', 3.4318181818181817, '5.0'), ('3', '0.5', 3.2596153846153846, '5.0'), ('4', '1.0', 2.357142857142857, '3.0'), ('5', '0.5', 3.0714285714285716, '5.0')]\n",
            "+-------+---+------------------+---+\n",
            "|MovieID|min|           average|max|\n",
            "+-------+---+------------------+---+\n",
            "|      1|0.5|3.9209302325581397|5.0|\n",
            "|      2|0.5|3.4318181818181817|5.0|\n",
            "|      3|0.5|3.2596153846153846|5.0|\n",
            "|      4|1.0| 2.357142857142857|3.0|\n",
            "|      5|0.5|3.0714285714285716|5.0|\n",
            "|      6|1.0| 3.946078431372549|5.0|\n",
            "|      7|1.0| 3.185185185185185|5.0|\n",
            "|      8|1.0|             2.875|5.0|\n",
            "|      9|1.5|             3.125|5.0|\n",
            "|     10|0.5| 3.496212121212121|5.0|\n",
            "|     11|1.0|3.6714285714285713|5.0|\n",
            "|     12|1.0|2.4210526315789473|5.0|\n",
            "|     13|2.0|             3.125|4.0|\n",
            "|     14|3.0|3.8333333333333335|5.0|\n",
            "|     15|1.0|               3.0|5.0|\n",
            "|     16|1.0| 3.926829268292683|5.0|\n",
            "|     17|0.5|3.7761194029850746|5.0|\n",
            "|     18|2.0|               3.7|5.0|\n",
            "|     19|1.0| 2.727272727272727|5.0|\n",
            "|     20|1.0|               2.5|4.0|\n",
            "+-------+---+------------------+---+\n",
            "only showing top 20 rows\n",
            "\n"
          ]
        }
      ]
    },
    {
      "cell_type": "markdown",
      "metadata": {
        "id": "fJP6iw_VZKWX"
      },
      "source": [
        "**Question 5: Output dataset containing users that have rated a movie but not tagged it.**"
      ]
    },
    {
      "cell_type": "code",
      "metadata": {
        "colab": {
          "base_uri": "https://localhost:8080/"
        },
        "id": "SkPk9P-7EGDm",
        "outputId": "d8c6070b-2850-475a-886a-c875e0d4413a"
      },
      "source": [
        "users_movies_rated = ratings.map(lambda row: (row['userId'], row['movieId']))\n",
        "users_movies_tagged = tags.map(lambda row: (row['userId'], row['movieId'])).distinct()\n",
        "\n",
        "users_movies_rated_and_tagged = users_movies_rated.intersection(users_movies_tagged)\n",
        "users_only_movies_rated_and_tagged = users_movies_rated_and_tagged.map(lambda tupl: tupl[0]).distinct()\n",
        "user_only_movies_rated = users_movies_rated.map(lambda tupl: tupl[0]).distinct()\n",
        "\n",
        "users_only_movies_rated_and_not_tagged = user_only_movies_rated.subtract(users_only_movies_rated_and_tagged).sortBy(lambda x: int(x))\n",
        "\n",
        "print(users_only_movies_rated_and_not_tagged.collect())\n",
        "print(users_only_movies_rated_and_not_tagged.count())"
      ],
      "execution_count": null,
      "outputs": [
        {
          "output_type": "stream",
          "name": "stdout",
          "text": [
            "['1', '3', '4', '5', '6', '8', '9', '10', '11', '12', '13', '14', '15', '16', '17', '19', '20', '22', '23', '24', '25', '26', '27', '28', '29', '30', '31', '32', '33', '34', '35', '36', '37', '38', '39', '40', '41', '42', '43', '44', '45', '46', '47', '48', '50', '51', '52', '53', '54', '55', '56', '57', '58', '59', '60', '61', '64', '65', '66', '67', '68', '69', '70', '71', '72', '73', '74', '75', '77', '78', '79', '80', '81', '82', '83', '84', '85', '86', '87', '88', '89', '90', '91', '92', '93', '94', '95', '96', '97', '98', '99', '100', '101', '102', '104', '105', '107', '108', '109', '110', '111', '113', '114', '115', '116', '117', '118', '120', '121', '122', '123', '124', '126', '127', '128', '129', '130', '131', '133', '134', '135', '136', '137', '139', '140', '141', '142', '143', '144', '145', '146', '147', '148', '149', '150', '151', '152', '153', '154', '155', '156', '157', '158', '159', '160', '162', '163', '164', '165', '168', '169', '170', '171', '172', '173', '174', '175', '176', '178', '179', '180', '181', '182', '183', '185', '186', '187', '188', '189', '190', '191', '192', '194', '195', '196', '197', '198', '199', '200', '201', '202', '203', '204', '206', '207', '208', '209', '210', '211', '212', '213', '214', '215', '216', '217', '218', '219', '220', '221', '222', '223', '224', '225', '227', '228', '229', '230', '231', '232', '233', '234', '235', '236', '237', '238', '239', '240', '241', '242', '243', '244', '245', '246', '247', '248', '249', '250', '251', '252', '253', '254', '255', '257', '258', '259', '260', '261', '262', '263', '264', '265', '266', '267', '268', '269', '270', '271', '272', '273', '275', '276', '277', '278', '279', '280', '281', '282', '283', '284', '285', '286', '287', '288', '290', '292', '293', '294', '295', '296', '297', '298', '299', '301', '302', '303', '304', '306', '307', '308', '309', '310', '311', '312', '313', '314', '315', '316', '317', '320', '321', '322', '323', '324', '325', '326', '328', '329', '330', '331', '332', '333', '334', '335', '337', '338', '339', '340', '341', '342', '343', '344', '345', '346', '347', '348', '349', '350', '351', '352', '353', '354', '355', '358', '359', '360', '361', '362', '363', '364', '365', '366', '367', '368', '369', '370', '371', '372', '373', '374', '375', '376', '377', '378', '379', '380', '381', '382', '383', '384', '385', '386', '387', '388', '389', '390', '391', '392', '393', '394', '395', '396', '397', '398', '399', '400', '401', '402', '403', '404', '405', '406', '407', '408', '409', '410', '411', '412', '413', '414', '415', '416', '417', '418', '420', '421', '422', '423', '425', '426', '427', '428', '429', '430', '431', '432', '433', '434', '436', '437', '438', '440', '441', '442', '443', '444', '445', '446', '447', '448', '449', '450', '451', '452', '453', '454', '455', '456', '457', '458', '459', '460', '461', '463', '464', '465', '466', '467', '468', '469', '470', '471', '472', '473', '475', '476', '478', '479', '480', '481', '482', '483', '484', '485', '486', '488', '489', '490', '491', '492', '493', '494', '495', '496', '497', '498', '499', '500', '501', '502', '503', '504', '505', '507', '508', '510', '511', '512', '514', '515', '516', '517', '518', '519', '521', '522', '523', '524', '525', '526', '527', '528', '529', '530', '531', '532', '534', '535', '536', '538', '539', '540', '541', '542', '543', '544', '545', '546', '547', '548', '549', '550', '551', '552', '553', '554', '555', '556', '557', '558', '559', '560', '561', '562', '563', '564', '565', '566', '568', '569', '570', '571', '572', '574', '575', '576', '577', '578', '579', '580', '581', '582', '583', '584', '585', '586', '587', '588', '589', '590', '591', '592', '593', '594', '595', '596', '597', '598', '600', '601', '602', '603', '604', '605', '607', '608', '609']\n",
            "556\n"
          ]
        }
      ]
    },
    {
      "cell_type": "markdown",
      "metadata": {
        "id": "IV63CamacFYD"
      },
      "source": [
        "**Question 6: Output dataset containing users that have rated AND tagged a movie.**"
      ]
    },
    {
      "cell_type": "code",
      "metadata": {
        "colab": {
          "base_uri": "https://localhost:8080/"
        },
        "id": "wsEHLJkNVSlO",
        "outputId": "a34880ce-ed1d-4d2b-aacf-491a24d19c15"
      },
      "source": [
        "users_only_movies_rated_and_tagged = users_only_movies_rated_and_tagged.sortBy(lambda x: int(x))\n",
        "print(users_only_movies_rated_and_tagged.collect())\n",
        "print(users_only_movies_rated_and_tagged.count())"
      ],
      "execution_count": null,
      "outputs": [
        {
          "output_type": "stream",
          "name": "stdout",
          "text": [
            "['2', '7', '18', '21', '49', '62', '63', '76', '103', '106', '112', '119', '125', '132', '138', '161', '166', '167', '177', '184', '193', '205', '226', '256', '274', '289', '291', '300', '305', '318', '319', '327', '336', '356', '357', '419', '424', '435', '439', '462', '474', '477', '487', '506', '509', '513', '520', '533', '537', '567', '573', '599', '606', '610']\n",
            "54\n"
          ]
        }
      ]
    },
    {
      "cell_type": "markdown",
      "metadata": {
        "id": "gRH_7A4VRV2R"
      },
      "source": [
        "**Question 7: Output dataset showing the number of movies per Genre per Year**"
      ]
    },
    {
      "cell_type": "code",
      "metadata": {
        "colab": {
          "base_uri": "https://localhost:8080/"
        },
        "id": "P9Xm2RRUV81I",
        "outputId": "7cf7eaf7-3da6-4046-e522-843fa52d2377"
      },
      "source": [
        "movies_genres = movies.map(lambda row: (row['movieId'], row['genres']))\n",
        "movies_genres = movies_genres.flatMapValues(lambda v : v.split('|'))\n",
        "movies_years = movies.map(lambda row: (row['movieId'],row['title'][-5:-1]))\n",
        "movies_genres_years = movies_genres.join(movies_years).sortBy(lambda tupl:int(tupl[0]))\n",
        "movies_genres_years_count = movies_genres_years.map(lambda tuple: (tuple[1],1)).reduceByKey(lambda a,b : a+b)\n",
        "movies_genres_years_count = movies_genres_years_count.map(lambda tupl: (tupl[0][0], tupl[0][1],tupl[1]))\n",
        "\n",
        "movies_genres_years_count.toDF(['Genre', 'Year','Number of Movies']).show()"
      ],
      "execution_count": null,
      "outputs": [
        {
          "output_type": "stream",
          "name": "stdout",
          "text": [
            "+-----------+----+----------------+\n",
            "|      Genre|Year|Number of Movies|\n",
            "+-----------+----+----------------+\n",
            "|   Children|1995|              29|\n",
            "|    Fantasy|1995|              16|\n",
            "|    Romance|1995|              49|\n",
            "|      Drama|1995|             123|\n",
            "|     Action|1995|              44|\n",
            "|   Thriller|1995|              42|\n",
            "|     Horror|1995|              19|\n",
            "|     Sci-Fi|1995|              19|\n",
            "|    Musical|1995|               4|\n",
            "|      Drama|1994|             114|\n",
            "|    Romance|1994|              41|\n",
            "|     Comedy|1996|             108|\n",
            "|      Crime|1996|              32|\n",
            "|Documentary|1995|               6|\n",
            "|  Adventure|1996|              35|\n",
            "|    Mystery|1996|              10|\n",
            "|      Crime|1976|               8|\n",
            "|     Comedy|1992|              69|\n",
            "|   Children|1994|              24|\n",
            "|    Fantasy|1994|              16|\n",
            "+-----------+----+----------------+\n",
            "only showing top 20 rows\n",
            "\n"
          ]
        }
      ]
    },
    {
      "cell_type": "code",
      "metadata": {
        "id": "wYT4mRBij9tB",
        "colab": {
          "base_uri": "https://localhost:8080/",
          "height": 165
        },
        "outputId": "1ac07545-df7d-409e-aa63-0d80cbe9dd8e"
      },
      "source": [
        "sc.stop()"
      ],
      "execution_count": null,
      "outputs": [
        {
          "output_type": "error",
          "ename": "NameError",
          "evalue": "ignored",
          "traceback": [
            "\u001b[0;31m---------------------------------------------------------------------------\u001b[0m",
            "\u001b[0;31mNameError\u001b[0m                                 Traceback (most recent call last)",
            "\u001b[0;32m<ipython-input-9-8d3513b7698b>\u001b[0m in \u001b[0;36m<module>\u001b[0;34m()\u001b[0m\n\u001b[0;32m----> 1\u001b[0;31m \u001b[0msc\u001b[0m\u001b[0;34m.\u001b[0m\u001b[0mstop\u001b[0m\u001b[0;34m(\u001b[0m\u001b[0;34m)\u001b[0m\u001b[0;34m\u001b[0m\u001b[0;34m\u001b[0m\u001b[0m\n\u001b[0m",
            "\u001b[0;31mNameError\u001b[0m: name 'sc' is not defined"
          ]
        }
      ]
    }
  ]
}